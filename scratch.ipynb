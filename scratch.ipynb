{
 "cells": [
  {
   "attachments": {},
   "cell_type": "markdown",
   "metadata": {},
   "source": [
    "### Creating spatial dataframe "
   ]
  },
  {
   "cell_type": "code",
   "execution_count": null,
   "metadata": {},
   "outputs": [],
   "source": [
    "# import rasterio\n",
    "# from rasterio.features import shapes\n",
    "# import geopandas as gpd\n",
    "# from matplotlib import pyplot\n",
    "import matplotlib.pyplot as plt\n",
    "from PIL import Image\n",
    "from shapely.geometry import Polygon\n",
    "from imageio import imread\n",
    "from skimage import measure\n",
    "from skimage.color.colorconv import rgb2gray, rgba2rgb\n",
    "from shapely.geometry import shape, Point, Polygon, LineString\n",
    "import geojson"
   ]
  },
  {
   "cell_type": "code",
   "execution_count": null,
   "metadata": {},
   "outputs": [],
   "source": [
    "from skimage import io\n",
    "# read a PNG\n",
    "polypic = imread(\"library_exploded_view-210912_0.png\")\n",
    "# convert to greyscale if need be\n",
    "gray = rgb2gray(rgba2rgb(polypic))\n",
    "\n",
    "io.imshow(gray)\n",
    "plt.show()\n",
    "\n",
    "\n",
    "# find contours\n",
    "# Not sure why 1.0 works as a level -- maybe experiment with lower values\n",
    "# contours = measure.find_contours(gray, 1.0)\n",
    "\n",
    "# build polygon, and simplify its vertices if need be\n",
    "# this assumes a single, contiguous shape\n",
    "# if you have e.g. multiple shapes, build a MultiPolygon with a list comp\n",
    "\n",
    "# RESULTING POLYGONS ARE NOT GUARANTEED TO BE SIMPLE OR VALID\n",
    "# check this yourself using e.g. poly.is_valid\n",
    "# poly = Polygon(contours[0]).simplify(1.0)"
   ]
  },
  {
   "cell_type": "code",
   "execution_count": null,
   "metadata": {},
   "outputs": [],
   "source": [
    "contours = measure.find_contours(gray, 0.6)\n",
    "\n",
    "# Display the image and plot all contours found\n",
    "fig, ax = plt.subplots()\n",
    "ax.imshow(gray, cmap=plt.cm.gray)\n",
    "\n",
    "for contour in contours:\n",
    "    ax.plot(contour[:, 1], contour[:, 0], linewidth=2)\n",
    "\n",
    "ax.axis('image')\n",
    "ax.set_xticks([])\n",
    "ax.set_yticks([])\n",
    "plt.show()"
   ]
  },
  {
   "cell_type": "code",
   "execution_count": null,
   "metadata": {},
   "outputs": [],
   "source": [
    "# import numpy as np\n",
    "import matplotlib.pyplot as plt\n",
    "from shapely.geometry import Polygon, MultiPolygon\n",
    "import geopandas as gpd\n",
    "from geopandas import GeoSeries\n",
    "\n",
    "polygons = [Polygon(contour[:, ::-1]) for contour in contours]\n",
    "\n",
    "# g = GeoSeries(polygons)\n",
    "cntr_df = gpd.GeoDataFrame(geometry=gpd.GeoSeries(polygons))\n",
    "cntr_df.to_file('contours.geojson', driver='GeoJSON')  "
   ]
  },
  {
   "cell_type": "code",
   "execution_count": null,
   "metadata": {},
   "outputs": [],
   "source": [
    "cntr_df"
   ]
  }
 ],
 "metadata": {
  "language_info": {
   "name": "python"
  },
  "orig_nbformat": 4
 },
 "nbformat": 4,
 "nbformat_minor": 2
}
